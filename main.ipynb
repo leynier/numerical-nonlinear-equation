{
 "nbformat": 4,
 "nbformat_minor": 2,
 "metadata": {
  "language_info": {
   "name": "python",
   "codemirror_mode": {
    "name": "ipython",
    "version": 3
   },
   "version": "3.6.8"
  },
  "orig_nbformat": 2,
  "file_extension": ".py",
  "mimetype": "text/x-python",
  "name": "python",
  "npconvert_exporter": "python",
  "pygments_lexer": "ipython3",
  "version": 3
 },
 "cells": [
  {
   "cell_type": "markdown",
   "execution_count": null,
   "metadata": {},
   "outputs": [],
   "source": [
    "# Seminario sobre Solución de Ecuaciones No Lineales Numericamente\n",
    "\n",
    "**Autor**: Leynier Gutiérrez González\n",
    "\n",
    "## Separación de raíces\n",
    "\n",
    "En todos los métodos de resolución de ecuaciones que serán considerados en este capítulo, se parte del conocimiento de un intervalo `(a, b)` en el que la ecuación tiene exactamente una raíz. Lo más frecuente, sin embargo, es que en el intervalo de interés, lo más que se pueda asegurar es la existencia de una o más raíces. Por esta razón, el cálculo de las raíces de una ecuación consta, en general, de dos etapas; la primera, llamada separación de las raíces, persigue precisamente determinar intervalos como el `(a, b)` que contengan una raíz; la segunda es ya la aplicación de un algoritmo para hallar una aproximación de la raíz deseada con la aproximación requerida.\n",
    "\n",
    "### Separación gráfica de raíces\n",
    "\n",
    "La técnica más elemental para la separación de raíces es el método gráfico que utiliza el conocido hecho de que las raíces de `f(x) = 0` son las abscisas de los puntos en que la gráfica de la función `y = f(x)` corta al eje `x`.\n",
    "\n",
    "Es obvio que de esta forma no se pueden determinar las raíces con una precisión aceptable, pero sí se pueden acotar dentro de intervalos de separación suficientemente pequeños. Como en la actualidad existe una enorme cantidad de programas que grafican funciones, el método gráfico es sumamente atractivo y eficiente. Por lo general, se comienza graficando la función `f(x)` en un intervalo grande y se van precisando intervalos de búsqueda más pequeños en los cuales se ordena de nuevo graficar la función, hasta obtener un intervalo en que solamente esté contenida la raíz que interese. El método gráfico brinda, además, valiosa información acerca de las características de la función `f(x)`, tales como los signos de la función y de su primera y segunda derivadas en diferentes puntos del intervalo de separación; esta información puede ser de gran importancia para la aplicación posterior de los métodos de cálculo de raíces.\n",
    "\n",
    "### Algunos resultados importantes para ecuaciones algebraicas\n",
    "\n",
    "**Teorema 1:** Una ecuación algebraica de grado `n` tiene n raíces, reales o imaginarias, si cada raíz se cuenta tantas veces según sea su multiplicidad.\n",
    "\n",
    "**Colorario 1:** Una ecuación algebraica de grado `n` tiene como máximo n raíces reales.\n",
    "\n",
    "**Regla de Descartes:** Sea `m` el número de cambios de signo que se presentan en la sucesión de coeficientes de la ecuación algebraica. Entonces el número de raíces positivas de la ecuación es menor o igual que `m` y tiene su misma paridad.\n",
    "\n",
    "**La fórmula de Lagrange para acotar raíces:** Sea la ecuación algebraica de grado `n`, cuyo primer coeficiente `a_0` es positivo. Si `B` es el valor absoluto del coeficiente negativo con mayor valor absoluto y `a_k` es el primer coeficiente negativo contando desde la izquierda, entonces todas las raíces positivas de la ecuación, si existen, son menores que el número `R = 1 + (B / a_0)^(1/k)`\n",
    "\n",
    "**Análisis de las raíces negativas de una ecuación algebraica**: Las reglas de Descartes y de Lagrange solo se refieren a raíces positivas. Cuando se desee investigar las raíces negativas, bastará cambiar en la ecuación la variable `x` por `–x` y analizar las raíces positivas de la nueva ecuación obtenida, ya que, evidentemente, si `r` es una raíz positiva de la nueva ecuación `f(–x) = 0` entonces `–r` es una raíz negativa de la ecuación original `f(x) = 0`.\n",
    "\n",
    "## El método de la bisección\n",
    "\n",
    "### Hipótesis\n",
    "\n",
    "Sea la ecuación `f(x) = 0` y un intervalo `[a, b]` tales que:\n",
    "\n",
    "1. En el intervalo la ecuación tiene una sola raíz `x = r`.\n",
    "2. `f(x)` es continua en `[a, b]`\n",
    "3. `f(x)` posee signos diferentes en `a` y en `b`, es decir, `f(a) * f(b) < 0`\n",
    "\n",
    "### El método\n",
    "\n",
    "Tal como indica su nombre, el método consiste en aproximar la raíz de la ecuación como el punto medio del intervalo `[a, b]`. Evaluando la función en este punto se decide si la raíz se encuentra en la mitad izquierda del intervalo o en la mitad derecha. De esta manera, una de las dos mitades queda descartada y la amplitud del nuevo intervalo de búsqueda es exactamente un medio de la anterior. A medida que este proceso se repite, el intervalo de búsqueda va disminuyendo en amplitud. Si se conviene en llamar `[a_1, b_1]` al intervalo inicial, entonces, en la iteración número `n` del método se tiene:\n",
    "\n",
    "    x_n = (a_n + b_n) / 2           n = 1, 2, 3, ...\n",
    "\n",
    "con el error absoluto máximo: `E_m(x_n) = (b_n - a_b) / 2`\n",
    "\n",
    "Al evaluar la función `f(x)` en `x_n` se selecciona el nuevo intervalo de búsqueda `[a_(n + 1), b_(n + 1)]` de acuerdo con la siguiente regla:\n",
    "\n",
    "* Si `f(a_n) * f(x_n) < 0` entonces la raíz se encuentra en `[a_n, x_n]` y se escoge `a_(n + 1) = a_n` y `b_(n + 1) = x_n`\n",
    "* Si `f(x_n) * f(b_n) < 0` entonces la raíz se encuentra en `[x_n, b_n]` y se escoge `a_(n + 1) = x_n` y `b_(n + 1) = b_n`\n",
    "* Si `f(x_n) * f(b_n) = 0` entonces `x_n` es la raíz buscada y no hay que continuar.\n",
    "\n",
    "### Convergencia del método\n",
    "\n",
    "**Error máximo en la interación `n`**: `E_m(x_n) = (b - a) / 2^n`\n",
    "\n",
    "Si la variable `n` tiene al infinito, `E_m` tiende a `0`. Y como `|r - x_n| <= E_m(x_n)`, quedando que si `n` tiende al infinito `x_n` tiende a `r`.\n",
    "\n",
    "### Condición de terminación\n",
    "\n",
    "Una vez que se tiene una forma de hallar el error absoluto máximo en cada paso de un método iterativo el proceso se puede detener tan pronto como dicho error sea suficientemente pequeño. Para precisar ideas, si el número `e > 0` es la tolerancia con que se necesita la raíz de la ecuación, entonces el proceso iterativo se debe detener cuando `E_m(x_n)` sea menor o igual que `e`. El error absoluto máximo se halla en cada paso mediante la ecuación `E_m(x_n) = (b_n - a_b) / 2`. Entonces la condición de terminación del proceso iterativo será:\n",
    "\n",
    "> Condición de terminación: Si se desea obtener la raíz de la ecuación con un error absoluto menor que `e`, el método de bisección se llevará a cabo hasta la aproximación `x_n` para la cual `E_m(x_n) = (b_n - a_n) - 2 <= e`.\n",
    "\n",
    "En el método de bisección se puede determinar, antes de comenzar, el número de iteraciones que será necesario realizar para alcanzar una cierta precisión; en efecto, de acuerdo con la ecuación `E_m(x_n) = (b - a) / 2^n` se tiene `n >= ln((b - a) / e) / ln(2)`.\n",
    "\n",
    "### Implementación"
   ]
  },
  {
   "cell_type": "code",
   "execution_count": 2,
   "metadata": {},
   "outputs": [],
   "source": [
    "from scipy import sign\n",
    "\n",
    "\n",
    "def bisection(f, a, b, e=10**(-12)):\n",
    "    while (b - a) > e:\n",
    "        m = a + (b - a) / 2\n",
    "        if sign(f(a)) == sign(f(m)):\n",
    "            a = m\n",
    "        else:\n",
    "            b = m\n",
    "    m = a + (b - a) / 2\n",
    "    return m"
   ]
  },
  {
   "cell_type": "markdown",
   "execution_count": null,
   "metadata": {},
   "outputs": [],
   "source": [
    "## Ejemplo\n",
    "\n",
    "`f(x) = x^2 - 10` en `[0, 10]`"
   ]
  },
  {
   "cell_type": "code",
   "execution_count": 3,
   "metadata": {},
   "outputs": [
    {
     "name": "stdout",
     "output_type": "stream",
     "text": "Bisección Propio: 3.162277660168513\nBisección Scipy: 3.162277660168229\nRaíz Exacta: 3.1622776601683795\n"
    }
   ],
   "source": [
    "from scipy.optimize import bisect\n",
    "\n",
    "\n",
    "f = lambda x: x**2 - 10\n",
    "a = 0\n",
    "b = 10\n",
    "\n",
    "print('Bisección Propio:', bisection(f, a, b))\n",
    "print('Bisección Scipy:', bisect(f, a, b))\n",
    "print('Raíz Exacta:', 10**(1/2))"
   ]
  },
  {
   "cell_type": "markdown",
   "execution_count": null,
   "metadata": {},
   "outputs": [],
   "source": [
    "## El método Regula Falsi\n",
    "\n",
    "### Hipótesis\n",
    "\n",
    "Sea la ecuación `f(x) = 0` y un intervalo `[a, b]` tales que:\n",
    "\n",
    "1. En el intervalo la ecuación tiene una sola raíz `x = r`.\n",
    "2. `f(x)` es continua en `[a, b]`\n",
    "3. `f(x)` posee signos diferentes en `a` y en `b`, es decir, `f(a) * f(b) < 0`\n",
    "\n",
    "### El método\n",
    "\n",
    "El nombre de este método proviene de una frase latina que significa regla inclinada y geométricamente consiste en tomar como aproximación de la raíz en el intervalo `[a_n, b_n]` el punto de intersección con el eje `x` de un segmento que une los extremos del arco de la gráfica en ese intervalo. Por esta razón, también se le conoce como método de las cuerdas.\n",
    "\n",
    "    x_n = a_n - (b_n - a_n) / (f(b_n) - f(a_n)) * f(a_n)\n",
    "\n",
    "Tal como en el método de bisección, una vez obtenido el valor `x_n`, se analiza el signo de `f(x_n)` y de acuerdo con él se determina si la raíz `r` se encuentra en `[a_n, x_n]` o en `[x_n, b_n]` y el proceso se repite sucesivamente.\n",
    "\n",
    "### El error del método\n",
    "\n",
    "Si `f(x)` es continua y dos veces derivable en `[a, b]`, `f(x)` posee en `[a, b]` una sola raíz siendo `f(a)` y `f(b)` de signos opuestos, `f'(x)` y `f\"(x)` no cambian de signo en `[a, b]` y existen números `d` y `D` tales que `d <= f'(x) <= D` en `[a, b]` y se cumple que `2d > D`, entonces el error absoluto máximo de la aproximación `x_n` obtenida por el método Regula Falsi puede tomarse como:\n",
    "\n",
    "    E_m (x_n) = |x_n - x_(n - 1)|\n",
    "\n",
    "### Condición de terminación\n",
    "\n",
    "Si se desea obtener la raíz de la ecuación con un error absoluto menor que `e` y se satisfacen las hipótesis de convergencia, el método Regula Falsi se llevará a cabo hasta la aproximación `x_n` para la cual `E_m (x_n) = |x_n - x_(n - 1)| <= e`.\n",
    "\n",
    "### Implementación"
   ]
  },
  {
   "cell_type": "code",
   "execution_count": 4,
   "metadata": {},
   "outputs": [],
   "source": [
    "from scipy import sign\n",
    "\n",
    "\n",
    "def regula_falsi(f, a, b, e=10**(-12)):\n",
    "    x_a = 10**6\n",
    "    while True:\n",
    "        x = a - ((b - a) / (f(b) - f(a))) * f(a)\n",
    "        t_e = abs(x - x_a)\n",
    "        if f(x) == 0:\n",
    "            return x\n",
    "        elif sign(f(a)) == sign(f(x)):\n",
    "            b = x\n",
    "        else:\n",
    "            a = x\n",
    "        x_a = x\n",
    "        if t_e <= e:\n",
    "            return x"
   ]
  },
  {
   "cell_type": "markdown",
   "execution_count": null,
   "metadata": {},
   "outputs": [],
   "source": [
    "### Ejemplo\n",
    "\n",
    "`f(x) = x^2 - 10` en `[0, 10]`"
   ]
  },
  {
   "cell_type": "code",
   "execution_count": 5,
   "metadata": {},
   "outputs": [
    {
     "name": "stdout",
     "output_type": "stream",
     "text": "Regula Falsi Propio: 3.162277660168651\nRaíz Exacta: 3.1622776601683795\n"
    }
   ],
   "source": [
    "f = lambda x: x**2 - 10\n",
    "a = 0\n",
    "b = 10\n",
    "\n",
    "print('Regula Falsi Propio:', regula_falsi(f, a, b))\n",
    "print('Raíz Exacta:', 10**(1/2))"
   ]
  },
  {
   "cell_type": "markdown",
   "execution_count": null,
   "metadata": {},
   "outputs": [],
   "source": [
    "## El método de Newton – Raphson\n",
    "\n",
    "Sea `f: [a, b] -> R` función derivable definida en el intervalo real `[a, b]`. Empezamos con un valor inicial `x_0` y definimos para cada número natural `n`\n",
    "\n",
    "    x_(n + 1) = x_n - f(x_n) / f'(x_n)\n",
    "\n",
    "### El error del método\n",
    "\n",
    "    E_m(x_n) = (M / 2d) * [E_m(x_(n - 1))]^2\n",
    "\n",
    "### Condición de terminación\n",
    "\n",
    "Si se desea obtener la raíz de la ecuación con un error absoluto menor que `e` el método de Newton - Raphson se llevará a cabo hasta la aproximación `x_n` para la cual: `E_m(x_n) = |x_n - x_(n - 1)| <= e`\n",
    "\n",
    "### Implementación"
   ]
  },
  {
   "cell_type": "code",
   "execution_count": 6,
   "metadata": {},
   "outputs": [],
   "source": [
    "def newton_raphson(f, df, x_a, e=10**(-12)):\n",
    "    while True:\n",
    "        x = x_a - f(x_a) / df(x_a)\n",
    "        if abs(x - x_a) <= e:\n",
    "            return x\n",
    "        x_a = x"
   ]
  },
  {
   "cell_type": "markdown",
   "execution_count": null,
   "metadata": {},
   "outputs": [],
   "source": [
    "### Ejemplo\n",
    "\n",
    "    f(x) = x^2 - 10\n",
    "    f'(x) = 2x\n",
    "\n",
    "Aproximación inicial: `3`"
   ]
  },
  {
   "cell_type": "code",
   "execution_count": 7,
   "metadata": {},
   "outputs": [
    {
     "name": "stdout",
     "output_type": "stream",
     "text": "Newton Raphson Propio: 3.162277660168379\nRaíz Exacta: 3.1622776601683795\n"
    }
   ],
   "source": [
    "f = lambda x: x**2 - 10\n",
    "df = lambda x: 2 * x\n",
    "x_a = 3\n",
    "\n",
    "print('Newton Raphson Propio:', newton_raphson(f, df, x_a))\n",
    "print('Raíz Exacta:', 10**(1/2))"
   ]
  },
  {
   "cell_type": "markdown",
   "execution_count": null,
   "metadata": {},
   "outputs": [],
   "source": [
    "## El método de las secantes\n",
    "\n",
    "El método se define por la relación de recurrencia:\n",
    "\n",
    "    x_(n + 1) = x_n - ((x_n - x_(n - 1)) / (f(x_n) - f(x_(n - 1)))) * f(x_n)\n",
    "\n",
    "Como se puede ver, este método necesitará dos aproximaciones iniciales de la raíz para poder inducir una pendiente inicial.\n",
    "\n",
    "### Convergencia\n",
    "\n",
    "El orden de convergencia de este método, en un punto cercano a la solución, es `a` donde\n",
    "\n",
    "    a = (1 + 5^(1/2)) / 2\n",
    "\n",
    "`a` es proximadamente `1.618`, es el número áureo, por lo que se trata de una convergencia superlineal inferior a la del método de Newton - Raphson. En caso de que la aproximación inicial sea demasiado lejana o la raíz no sea simple, este método no asegura la convergencia y tiene un comportamiento similar al de Newton - Raphson.\n",
    "\n",
    "\n",
    "### El error del método\n",
    "\n",
    "    E_m(x_n) = (M / 2d)^(0.618) * [E_m(x_(n - 1))]^(1.618)\n",
    "\n",
    "### Condición de terminación\n",
    "\n",
    "Si se desea obtener la raíz de la ecuación con un error absoluto menor que `e` el método de Newton - Raphson se llevará a cabo hasta la aproximación `x_n` para la cual: `E_m(x_n) = |x_n - x_(n - 1)| <= e`\n",
    "\n",
    "### Implementación"
   ]
  },
  {
   "cell_type": "code",
   "execution_count": 8,
   "metadata": {},
   "outputs": [],
   "source": [
    "def secant(f, x_a, x_b, e=10**(-12)):\n",
    "    while True:\n",
    "        x = x_b - f(x_b) * ((x_b - x_a) / (f(x_b) - f(x_a)))\n",
    "        t_e = abs(x - x_b)\n",
    "        if t_e < e:\n",
    "            return x\n",
    "        x_a = x_b\n",
    "        x_b = x"
   ]
  },
  {
   "cell_type": "markdown",
   "execution_count": null,
   "metadata": {},
   "outputs": [],
   "source": [
    "### Ejemplo\n",
    "\n",
    "    f(x) = x^2 - 10\n",
    "\n",
    "Aproximaciones iniciales: `3` y `4`"
   ]
  },
  {
   "cell_type": "code",
   "execution_count": 9,
   "metadata": {},
   "outputs": [
    {
     "name": "stdout",
     "output_type": "stream",
     "text": "Secante Propio: 3.162277660168379\nRaíz Exacta: 3.1622776601683795\n"
    }
   ],
   "source": [
    "f = lambda x: x**2 - 10\n",
    "x_a = 3\n",
    "x_b = 4\n",
    "\n",
    "print('Secante Propio:', secant(f, x_a, x_b))\n",
    "print('Raíz Exacta:', 10**(1/2))"
   ]
  },
  {
   "cell_type": "markdown",
   "execution_count": null,
   "metadata": {},
   "outputs": [],
   "source": [
    "## El método de Muller\n",
    "\n",
    "El método de Muller es un método recursivo que genera una aproximación de la raíz `r` de `f` en cada iteración. Comenzando con los tres valores iniciales `x_0`, `x_1` y `x_2`.\n",
    "\n",
    "`w = f[x_(k - 1), x_(k - 2)] + f[x_(k - 1), x_(k - 3)] - f[x_(k - 2), x_(k - 3)]`\n",
    "\n",
    "Donde:\n",
    "\n",
    "`x_k = x_(k - 1) - 2 * f(x_(k - 1)) / (w + (w^2 - 4 * f(x_(k - 1)) * f[x_(k - 1), x_(k - 2), x_(k - 3)])^(1/2))`\n",
    "\n",
    "En esta fórmula, el signo debe elegirse de modo que el denominador sea lo más grande posible en magnitud. No usamos la fórmula estándar para resolver ecuaciones cuadráticas porque eso puede conducir a una pérdida de significación.\n",
    "\n",
    "### Convergencia\n",
    "\n",
    "El orden de convergencia del método de Muller es aproximadamente `1.84`. Esto se puede comparar con `1.62` para el método secante y `2` para el método de Newton. Entonces, el método secante hace menos progreso por iteración que el método de Muller y el método de Newton hace más progreso.\n",
    "\n",
    "### Implementación"
   ]
  },
  {
   "cell_type": "code",
   "execution_count": 10,
   "metadata": {},
   "outputs": [],
   "source": [
    "from cmath import sqrt\n",
    "\n",
    "\n",
    "def muller(f, x_1, x_2, x_3, e=10**-12):\n",
    "    while abs(f(x_1)) > e:\n",
    "        q = (x_1 - x_2) / (x_2 - x_3)\n",
    "        a = q * f(x_1) - q * (1 + q) * f(x_2) + q**2 * f(x_3)\n",
    "        b = (2 * q + 1) * f(x_1) - (1 + q)**2 * f(x_2) + q**2 * f(x_3)\n",
    "        c = (1 + q) * f(x_1)\n",
    "        r = x_1 - (x_1 - x_2) * ((2 * c) / (b + sqrt(b**2 - 4 * a * c)))\n",
    "        s = x_1 - (x_1 - x_2) * ((2 * c) / (b - sqrt(b**2 - 4 * a * c)))\n",
    "        if abs(f(r)) < abs(f(s)):\n",
    "            x = r\n",
    "        else:\n",
    "            x = s\n",
    "        if x.imag == 0j:\n",
    "            x = x.real\n",
    "            return x\n",
    "        else:\n",
    "            return x\n",
    "        x_3 = x_2\n",
    "        x_2 = x_1\n",
    "        x_1 = x"
   ]
  },
  {
   "cell_type": "markdown",
   "execution_count": null,
   "metadata": {},
   "outputs": [],
   "source": [
    "### Ejemplo\n",
    "\n",
    "`f(x) = x^2 - 10`\n",
    "\n",
    "Aproximaciones iniciales: `3`, `3.5` y `4`"
   ]
  },
  {
   "cell_type": "code",
   "execution_count": 11,
   "metadata": {},
   "outputs": [
    {
     "name": "stdout",
     "output_type": "stream",
     "text": "Muller Propio: 3.1622776601683795\nRaíz Exacta: 3.1622776601683795\n"
    }
   ],
   "source": [
    "f = lambda x: x**2 - 10\n",
    "x_1 = 3\n",
    "x_2 = 3.5\n",
    "x_3 = 4\n",
    "\n",
    "print('Muller Propio:', muller(f, x_1, x_2, x_3))\n",
    "print('Raíz Exacta:', 10**(1/2))"
   ]
  },
  {
   "cell_type": "code",
   "execution_count": null,
   "metadata": {},
   "outputs": [],
   "source": []
  }
 ]
}